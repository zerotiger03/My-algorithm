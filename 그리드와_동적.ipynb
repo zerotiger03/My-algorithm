{
  "nbformat": 4,
  "nbformat_minor": 0,
  "metadata": {
    "colab": {
      "provenance": [],
      "authorship_tag": "ABX9TyMQfZ5YletHo5dWDomTc5FR",
      "include_colab_link": true
    },
    "kernelspec": {
      "name": "python3",
      "display_name": "Python 3"
    },
    "language_info": {
      "name": "python"
    }
  },
  "cells": [
    {
      "cell_type": "markdown",
      "metadata": {
        "id": "view-in-github",
        "colab_type": "text"
      },
      "source": [
        "<a href=\"https://colab.research.google.com/github/zerotiger03/My-algorithm/blob/main/%EA%B7%B8%EB%A6%AC%EB%93%9C%EC%99%80_%EB%8F%99%EC%A0%81.ipynb\" target=\"_parent\"><img src=\"https://colab.research.google.com/assets/colab-badge.svg\" alt=\"Open In Colab\"/></a>"
      ]
    },
    {
      "cell_type": "code",
      "source": [
        "# greedy의 시간 복잡도\n",
        "\n",
        "# 최대로 오래 걸리면 총 4번 돈다.\n",
        "# 즉, 상수시간이다.\n",
        "\n",
        "def greedy(n):                               # 그리디 알고리즘\n",
        "  lst = [0 for _ in range(4)]\n",
        "  while n != 0:                              # 종료조건 : n == 0\n",
        "    if n >= 500:                             # 각각 500, 100, 50, 10 으로 나눈 몫을 리스트에 바꿔주고 전체 n에서 그만큼 빼준다\n",
        "      lst[0] = (n//500)\n",
        "      n = n - (500 * (n//500))\n",
        "    elif n >= 100:\n",
        "      lst[1] = (n//100)\n",
        "      n = n - (100 * (n//100))\n",
        "    elif n >= 50:\n",
        "      lst[2] = (n//50)\n",
        "      n = n - (50 * (n//50))\n",
        "    elif n >= 10:\n",
        "      lst[3] = (n//10)\n",
        "      n = n - (10 * (n//10))                # 종료조건까지 하고 나면 n은 0이므로 동전으로 n을 다 표현 한다 (500부터 시작하므로 최적임)\n",
        "  return print(*lst)                        # 리턴한 값은 순서대로 500 100 50 10 원의 숫자이다\n",
        "\n",
        "greedy(760)"
      ],
      "metadata": {
        "id": "WZczf5F72f-c",
        "colab": {
          "base_uri": "https://localhost:8080/"
        },
        "outputId": "b4e7a5b8-67b9-40db-abb3-a84ea46cd7e7"
      },
      "execution_count": null,
      "outputs": [
        {
          "output_type": "stream",
          "name": "stdout",
          "text": [
            "1 2 1 1\n"
          ]
        }
      ]
    },
    {
      "cell_type": "code",
      "source": [
        "# dynamic의 시간 복잡도\n",
        "\n",
        "# 최대로 오래 걸리면 ex) 160까지는 그냥 나오고 170은 16번 for문을 돈다 또 sort까지 씀, n이라면 16부터 n-1까지 합이고 이는 n^2에 비례한다 (sort도 마찬가지)\n",
        "# 즉, n^2에 비례한다.\n",
        "\n",
        "def dynamic(n):\n",
        "  lst = [[0, 0], [10, 1], [20, 2], [30, 3], [40, 4], [50, 1], [60, 2], [70, 3], [80, 4], [90, 5], [100, 1], [110, 2], [120, 3], [130, 4], [140, 5], [150, 2], [160, 1]]   # 10원부터 160원까지는 동전의 개수를 지정해준다.\n",
        "  if (n//10) <= 16:\n",
        "    return lst[n//10][1]\n",
        "  # 170원부터는 하나씩 추가해준다\n",
        "  else:\n",
        "    for i in range(17, (n//10)+1):\n",
        "      lst3 = []\n",
        "      for _ in range(1, i):\n",
        "        s = (i*10)//lst[_][0]\n",
        "        k = (i*10) - (s*lst[_][0])\n",
        "        lst3.append(((lst[lst[_][0]//10][1] * s) + lst[k//10][1]))\n",
        "      lst3.sort()\n",
        "      lst.append([i*10, lst3[0]])\n",
        "    return lst[n//10][1]\n",
        "\n",
        "dynamic(870)"
      ],
      "metadata": {
        "colab": {
          "base_uri": "https://localhost:8080/"
        },
        "id": "Ic1aAaWi0O1x",
        "outputId": "0530931a-fe3e-40eb-db1e-12c8b64e4a73"
      },
      "execution_count": null,
      "outputs": [
        {
          "output_type": "execute_result",
          "data": {
            "text/plain": [
              "8"
            ]
          },
          "metadata": {},
          "execution_count": 1
        }
      ]
    }
  ]
}